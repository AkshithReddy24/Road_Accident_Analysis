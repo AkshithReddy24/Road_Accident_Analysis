{
 "cells": [
  {
   "cell_type": "code",
   "execution_count": 1,
   "metadata": {},
   "outputs": [],
   "source": [
    "import pandas as pd\n",
    "import numpy as np\n",
    "import matplotlib.pyplot as plt\n",
    "from matplotlib.pylab import rcParams\n",
    "rcParams['figure.figsize'] = 15, 6"
   ]
  },
  {
   "cell_type": "code",
   "execution_count": 2,
   "metadata": {},
   "outputs": [],
   "source": [
    "dataset = pd.read_csv('Accident_Dataset.csv')"
   ]
  },
  {
   "cell_type": "code",
   "execution_count": 3,
   "metadata": {
    "scrolled": true
   },
   "outputs": [
    {
     "data": {
      "text/html": [
       "<div>\n",
       "<style scoped>\n",
       "    .dataframe tbody tr th:only-of-type {\n",
       "        vertical-align: middle;\n",
       "    }\n",
       "\n",
       "    .dataframe tbody tr th {\n",
       "        vertical-align: top;\n",
       "    }\n",
       "\n",
       "    .dataframe thead th {\n",
       "        text-align: right;\n",
       "    }\n",
       "</style>\n",
       "<table border=\"1\" class=\"dataframe\">\n",
       "  <thead>\n",
       "    <tr style=\"text-align: right;\">\n",
       "      <th></th>\n",
       "      <th>ACCIDENT_NO</th>\n",
       "      <th>ACCIDENT_DATE</th>\n",
       "      <th>ACCIDENT_TIME</th>\n",
       "      <th>ALCOHOLTIME</th>\n",
       "      <th>ACCIDENT_TYPE</th>\n",
       "      <th>DAY_OF_WEEK</th>\n",
       "      <th>HIT_RUN_FLAG</th>\n",
       "      <th>LIGHT_CONDITION</th>\n",
       "      <th>POLICE_ATTEND</th>\n",
       "      <th>SEVERITY</th>\n",
       "      <th>...</th>\n",
       "      <th>OLD_DRIVER</th>\n",
       "      <th>YOUNG_DRIVER</th>\n",
       "      <th>ALCOHOL_RELATED</th>\n",
       "      <th>UNLICENCSED</th>\n",
       "      <th>NO_OF_VEHICLES</th>\n",
       "      <th>HEAVYVEHICLE</th>\n",
       "      <th>PASSENGERVEHICLE</th>\n",
       "      <th>MOTORCYCLE</th>\n",
       "      <th>PUBLICVEHICLE</th>\n",
       "      <th>STAT_DIV_NAME</th>\n",
       "    </tr>\n",
       "  </thead>\n",
       "  <tbody>\n",
       "    <tr>\n",
       "      <th>0</th>\n",
       "      <td>T20100011699</td>\n",
       "      <td>27-03-10</td>\n",
       "      <td>14.20.00</td>\n",
       "      <td>1</td>\n",
       "      <td>1</td>\n",
       "      <td>6.0</td>\n",
       "      <td>0</td>\n",
       "      <td>1</td>\n",
       "      <td>1</td>\n",
       "      <td>1</td>\n",
       "      <td>...</td>\n",
       "      <td>0</td>\n",
       "      <td>1</td>\n",
       "      <td>0</td>\n",
       "      <td>0</td>\n",
       "      <td>2</td>\n",
       "      <td>0</td>\n",
       "      <td>2</td>\n",
       "      <td>0</td>\n",
       "      <td>0</td>\n",
       "      <td>1.0</td>\n",
       "    </tr>\n",
       "    <tr>\n",
       "      <th>1</th>\n",
       "      <td>T20100011706</td>\n",
       "      <td>25-03-10</td>\n",
       "      <td>19.00.00</td>\n",
       "      <td>1</td>\n",
       "      <td>1</td>\n",
       "      <td>4.0</td>\n",
       "      <td>0</td>\n",
       "      <td>2</td>\n",
       "      <td>0</td>\n",
       "      <td>2</td>\n",
       "      <td>...</td>\n",
       "      <td>0</td>\n",
       "      <td>1</td>\n",
       "      <td>0</td>\n",
       "      <td>1</td>\n",
       "      <td>2</td>\n",
       "      <td>0</td>\n",
       "      <td>2</td>\n",
       "      <td>0</td>\n",
       "      <td>0</td>\n",
       "      <td>2.0</td>\n",
       "    </tr>\n",
       "    <tr>\n",
       "      <th>2</th>\n",
       "      <td>T20100011709</td>\n",
       "      <td>27-03-10</td>\n",
       "      <td>15.00.00</td>\n",
       "      <td>1</td>\n",
       "      <td>2</td>\n",
       "      <td>6.0</td>\n",
       "      <td>0</td>\n",
       "      <td>1</td>\n",
       "      <td>0</td>\n",
       "      <td>1</td>\n",
       "      <td>...</td>\n",
       "      <td>0</td>\n",
       "      <td>0</td>\n",
       "      <td>0</td>\n",
       "      <td>0</td>\n",
       "      <td>2</td>\n",
       "      <td>0</td>\n",
       "      <td>1</td>\n",
       "      <td>0</td>\n",
       "      <td>0</td>\n",
       "      <td>2.0</td>\n",
       "    </tr>\n",
       "    <tr>\n",
       "      <th>3</th>\n",
       "      <td>T20100011710</td>\n",
       "      <td>27-03-10</td>\n",
       "      <td>16.10.00</td>\n",
       "      <td>1</td>\n",
       "      <td>1</td>\n",
       "      <td>6.0</td>\n",
       "      <td>0</td>\n",
       "      <td>1</td>\n",
       "      <td>1</td>\n",
       "      <td>1</td>\n",
       "      <td>...</td>\n",
       "      <td>0</td>\n",
       "      <td>0</td>\n",
       "      <td>0</td>\n",
       "      <td>0</td>\n",
       "      <td>2</td>\n",
       "      <td>0</td>\n",
       "      <td>1</td>\n",
       "      <td>1</td>\n",
       "      <td>0</td>\n",
       "      <td>2.0</td>\n",
       "    </tr>\n",
       "    <tr>\n",
       "      <th>4</th>\n",
       "      <td>T20100011711</td>\n",
       "      <td>19-03-10</td>\n",
       "      <td>11.00.00</td>\n",
       "      <td>0</td>\n",
       "      <td>3</td>\n",
       "      <td>5.0</td>\n",
       "      <td>0</td>\n",
       "      <td>1</td>\n",
       "      <td>0</td>\n",
       "      <td>1</td>\n",
       "      <td>...</td>\n",
       "      <td>0</td>\n",
       "      <td>0</td>\n",
       "      <td>0</td>\n",
       "      <td>0</td>\n",
       "      <td>1</td>\n",
       "      <td>0</td>\n",
       "      <td>0</td>\n",
       "      <td>1</td>\n",
       "      <td>0</td>\n",
       "      <td>1.0</td>\n",
       "    </tr>\n",
       "  </tbody>\n",
       "</table>\n",
       "<p>5 rows × 42 columns</p>\n",
       "</div>"
      ],
      "text/plain": [
       "    ACCIDENT_NO ACCIDENT_DATE ACCIDENT_TIME  ALCOHOLTIME  ACCIDENT_TYPE  \\\n",
       "0  T20100011699      27-03-10      14.20.00            1              1   \n",
       "1  T20100011706      25-03-10      19.00.00            1              1   \n",
       "2  T20100011709      27-03-10      15.00.00            1              2   \n",
       "3  T20100011710      27-03-10      16.10.00            1              1   \n",
       "4  T20100011711      19-03-10      11.00.00            0              3   \n",
       "\n",
       "   DAY_OF_WEEK  HIT_RUN_FLAG  LIGHT_CONDITION  POLICE_ATTEND  SEVERITY  ...  \\\n",
       "0          6.0             0                1              1         1  ...   \n",
       "1          4.0             0                2              0         2  ...   \n",
       "2          6.0             0                1              0         1  ...   \n",
       "3          6.0             0                1              1         1  ...   \n",
       "4          5.0             0                1              0         1  ...   \n",
       "\n",
       "   OLD_DRIVER  YOUNG_DRIVER  ALCOHOL_RELATED  UNLICENCSED  NO_OF_VEHICLES  \\\n",
       "0           0             1                0            0               2   \n",
       "1           0             1                0            1               2   \n",
       "2           0             0                0            0               2   \n",
       "3           0             0                0            0               2   \n",
       "4           0             0                0            0               1   \n",
       "\n",
       "   HEAVYVEHICLE  PASSENGERVEHICLE  MOTORCYCLE  PUBLICVEHICLE  STAT_DIV_NAME  \n",
       "0             0                 2           0              0            1.0  \n",
       "1             0                 2           0              0            2.0  \n",
       "2             0                 1           0              0            2.0  \n",
       "3             0                 1           1              0            2.0  \n",
       "4             0                 0           1              0            1.0  \n",
       "\n",
       "[5 rows x 42 columns]"
      ]
     },
     "execution_count": 3,
     "metadata": {},
     "output_type": "execute_result"
    }
   ],
   "source": [
    "dataset.head()"
   ]
  },
  {
   "cell_type": "code",
   "execution_count": 4,
   "metadata": {},
   "outputs": [
    {
     "data": {
      "text/plain": [
       "Index(['ACCIDENT_NO', 'ACCIDENT_DATE', 'ACCIDENT_TIME', 'ALCOHOLTIME',\n",
       "       'ACCIDENT_TYPE', 'DAY_OF_WEEK', 'HIT_RUN_FLAG', 'LIGHT_CONDITION',\n",
       "       'POLICE_ATTEND', 'SEVERITY', 'SPEED_ZONE', 'LONGITUDE', 'LATITUDE',\n",
       "       'LGA_NAME', 'TOTAL_PERSONS', 'INJ_OR_FATAL', 'FATALITY',\n",
       "       'SERIOUSINJURY', 'OTHERINJURY', 'NONINJURED', 'MALES', 'FEMALES',\n",
       "       'BICYCLIST', 'PASSENGER', 'DRIVER', 'PEDESTRIAN', 'PILLION', 'MOTORIST',\n",
       "       'UNKNOWN_', 'PED_CYCLIST_5_12', 'PED_CYCLIST_13_18', 'OLD_PEDESTRIAN',\n",
       "       'OLD_DRIVER', 'YOUNG_DRIVER', 'ALCOHOL_RELATED', 'UNLICENCSED',\n",
       "       'NO_OF_VEHICLES', 'HEAVYVEHICLE', 'PASSENGERVEHICLE', 'MOTORCYCLE',\n",
       "       'PUBLICVEHICLE', 'STAT_DIV_NAME'],\n",
       "      dtype='object')"
      ]
     },
     "execution_count": 4,
     "metadata": {},
     "output_type": "execute_result"
    }
   ],
   "source": [
    "dataset.columns"
   ]
  },
  {
   "cell_type": "code",
   "execution_count": 5,
   "metadata": {},
   "outputs": [
    {
     "data": {
      "text/plain": [
       "(138031, 42)"
      ]
     },
     "execution_count": 5,
     "metadata": {},
     "output_type": "execute_result"
    }
   ],
   "source": [
    "dataset.shape"
   ]
  },
  {
   "cell_type": "code",
   "execution_count": 6,
   "metadata": {},
   "outputs": [],
   "source": [
    "X = dataset.iloc[:,3:]"
   ]
  },
  {
   "cell_type": "code",
   "execution_count": 7,
   "metadata": {},
   "outputs": [
    {
     "data": {
      "text/html": [
       "<div>\n",
       "<style scoped>\n",
       "    .dataframe tbody tr th:only-of-type {\n",
       "        vertical-align: middle;\n",
       "    }\n",
       "\n",
       "    .dataframe tbody tr th {\n",
       "        vertical-align: top;\n",
       "    }\n",
       "\n",
       "    .dataframe thead th {\n",
       "        text-align: right;\n",
       "    }\n",
       "</style>\n",
       "<table border=\"1\" class=\"dataframe\">\n",
       "  <thead>\n",
       "    <tr style=\"text-align: right;\">\n",
       "      <th></th>\n",
       "      <th>ALCOHOLTIME</th>\n",
       "      <th>ACCIDENT_TYPE</th>\n",
       "      <th>DAY_OF_WEEK</th>\n",
       "      <th>HIT_RUN_FLAG</th>\n",
       "      <th>LIGHT_CONDITION</th>\n",
       "      <th>POLICE_ATTEND</th>\n",
       "      <th>SEVERITY</th>\n",
       "      <th>SPEED_ZONE</th>\n",
       "      <th>LONGITUDE</th>\n",
       "      <th>LATITUDE</th>\n",
       "      <th>...</th>\n",
       "      <th>OLD_DRIVER</th>\n",
       "      <th>YOUNG_DRIVER</th>\n",
       "      <th>ALCOHOL_RELATED</th>\n",
       "      <th>UNLICENCSED</th>\n",
       "      <th>NO_OF_VEHICLES</th>\n",
       "      <th>HEAVYVEHICLE</th>\n",
       "      <th>PASSENGERVEHICLE</th>\n",
       "      <th>MOTORCYCLE</th>\n",
       "      <th>PUBLICVEHICLE</th>\n",
       "      <th>STAT_DIV_NAME</th>\n",
       "    </tr>\n",
       "  </thead>\n",
       "  <tbody>\n",
       "    <tr>\n",
       "      <th>0</th>\n",
       "      <td>1</td>\n",
       "      <td>1</td>\n",
       "      <td>6.0</td>\n",
       "      <td>0</td>\n",
       "      <td>1</td>\n",
       "      <td>1</td>\n",
       "      <td>1</td>\n",
       "      <td>60</td>\n",
       "      <td>146.42392</td>\n",
       "      <td>-38.24305</td>\n",
       "      <td>...</td>\n",
       "      <td>0</td>\n",
       "      <td>1</td>\n",
       "      <td>0</td>\n",
       "      <td>0</td>\n",
       "      <td>2</td>\n",
       "      <td>0</td>\n",
       "      <td>2</td>\n",
       "      <td>0</td>\n",
       "      <td>0</td>\n",
       "      <td>1.0</td>\n",
       "    </tr>\n",
       "    <tr>\n",
       "      <th>1</th>\n",
       "      <td>1</td>\n",
       "      <td>1</td>\n",
       "      <td>4.0</td>\n",
       "      <td>0</td>\n",
       "      <td>2</td>\n",
       "      <td>0</td>\n",
       "      <td>2</td>\n",
       "      <td>50</td>\n",
       "      <td>144.93533</td>\n",
       "      <td>-37.74541</td>\n",
       "      <td>...</td>\n",
       "      <td>0</td>\n",
       "      <td>1</td>\n",
       "      <td>0</td>\n",
       "      <td>1</td>\n",
       "      <td>2</td>\n",
       "      <td>0</td>\n",
       "      <td>2</td>\n",
       "      <td>0</td>\n",
       "      <td>0</td>\n",
       "      <td>2.0</td>\n",
       "    </tr>\n",
       "    <tr>\n",
       "      <th>2</th>\n",
       "      <td>1</td>\n",
       "      <td>2</td>\n",
       "      <td>6.0</td>\n",
       "      <td>0</td>\n",
       "      <td>1</td>\n",
       "      <td>0</td>\n",
       "      <td>1</td>\n",
       "      <td>60</td>\n",
       "      <td>144.96195</td>\n",
       "      <td>-37.76806</td>\n",
       "      <td>...</td>\n",
       "      <td>0</td>\n",
       "      <td>0</td>\n",
       "      <td>0</td>\n",
       "      <td>0</td>\n",
       "      <td>2</td>\n",
       "      <td>0</td>\n",
       "      <td>1</td>\n",
       "      <td>0</td>\n",
       "      <td>0</td>\n",
       "      <td>2.0</td>\n",
       "    </tr>\n",
       "    <tr>\n",
       "      <th>3</th>\n",
       "      <td>1</td>\n",
       "      <td>1</td>\n",
       "      <td>6.0</td>\n",
       "      <td>0</td>\n",
       "      <td>1</td>\n",
       "      <td>1</td>\n",
       "      <td>1</td>\n",
       "      <td>60</td>\n",
       "      <td>145.07644</td>\n",
       "      <td>-37.86303</td>\n",
       "      <td>...</td>\n",
       "      <td>0</td>\n",
       "      <td>0</td>\n",
       "      <td>0</td>\n",
       "      <td>0</td>\n",
       "      <td>2</td>\n",
       "      <td>0</td>\n",
       "      <td>1</td>\n",
       "      <td>1</td>\n",
       "      <td>0</td>\n",
       "      <td>2.0</td>\n",
       "    </tr>\n",
       "    <tr>\n",
       "      <th>4</th>\n",
       "      <td>0</td>\n",
       "      <td>3</td>\n",
       "      <td>5.0</td>\n",
       "      <td>0</td>\n",
       "      <td>1</td>\n",
       "      <td>0</td>\n",
       "      <td>1</td>\n",
       "      <td>60</td>\n",
       "      <td>146.08043</td>\n",
       "      <td>-37.91727</td>\n",
       "      <td>...</td>\n",
       "      <td>0</td>\n",
       "      <td>0</td>\n",
       "      <td>0</td>\n",
       "      <td>0</td>\n",
       "      <td>1</td>\n",
       "      <td>0</td>\n",
       "      <td>0</td>\n",
       "      <td>1</td>\n",
       "      <td>0</td>\n",
       "      <td>1.0</td>\n",
       "    </tr>\n",
       "    <tr>\n",
       "      <th>...</th>\n",
       "      <td>...</td>\n",
       "      <td>...</td>\n",
       "      <td>...</td>\n",
       "      <td>...</td>\n",
       "      <td>...</td>\n",
       "      <td>...</td>\n",
       "      <td>...</td>\n",
       "      <td>...</td>\n",
       "      <td>...</td>\n",
       "      <td>...</td>\n",
       "      <td>...</td>\n",
       "      <td>...</td>\n",
       "      <td>...</td>\n",
       "      <td>...</td>\n",
       "      <td>...</td>\n",
       "      <td>...</td>\n",
       "      <td>...</td>\n",
       "      <td>...</td>\n",
       "      <td>...</td>\n",
       "      <td>...</td>\n",
       "      <td>...</td>\n",
       "    </tr>\n",
       "    <tr>\n",
       "      <th>138026</th>\n",
       "      <td>0</td>\n",
       "      <td>2</td>\n",
       "      <td>1.0</td>\n",
       "      <td>0</td>\n",
       "      <td>1</td>\n",
       "      <td>1</td>\n",
       "      <td>1</td>\n",
       "      <td>60</td>\n",
       "      <td>144.97049</td>\n",
       "      <td>-37.79748</td>\n",
       "      <td>...</td>\n",
       "      <td>0</td>\n",
       "      <td>0</td>\n",
       "      <td>0</td>\n",
       "      <td>0</td>\n",
       "      <td>1</td>\n",
       "      <td>0</td>\n",
       "      <td>1</td>\n",
       "      <td>0</td>\n",
       "      <td>0</td>\n",
       "      <td>2.0</td>\n",
       "    </tr>\n",
       "    <tr>\n",
       "      <th>138027</th>\n",
       "      <td>1</td>\n",
       "      <td>2</td>\n",
       "      <td>5.0</td>\n",
       "      <td>1</td>\n",
       "      <td>4</td>\n",
       "      <td>0</td>\n",
       "      <td>2</td>\n",
       "      <td>60</td>\n",
       "      <td>145.31055</td>\n",
       "      <td>-38.02485</td>\n",
       "      <td>...</td>\n",
       "      <td>0</td>\n",
       "      <td>0</td>\n",
       "      <td>0</td>\n",
       "      <td>0</td>\n",
       "      <td>1</td>\n",
       "      <td>0</td>\n",
       "      <td>0</td>\n",
       "      <td>0</td>\n",
       "      <td>0</td>\n",
       "      <td>2.0</td>\n",
       "    </tr>\n",
       "    <tr>\n",
       "      <th>138028</th>\n",
       "      <td>0</td>\n",
       "      <td>1</td>\n",
       "      <td>3.0</td>\n",
       "      <td>0</td>\n",
       "      <td>2</td>\n",
       "      <td>1</td>\n",
       "      <td>1</td>\n",
       "      <td>40</td>\n",
       "      <td>145.04234</td>\n",
       "      <td>-37.76884</td>\n",
       "      <td>...</td>\n",
       "      <td>0</td>\n",
       "      <td>0</td>\n",
       "      <td>0</td>\n",
       "      <td>0</td>\n",
       "      <td>3</td>\n",
       "      <td>0</td>\n",
       "      <td>2</td>\n",
       "      <td>1</td>\n",
       "      <td>0</td>\n",
       "      <td>2.0</td>\n",
       "    </tr>\n",
       "    <tr>\n",
       "      <th>138029</th>\n",
       "      <td>0</td>\n",
       "      <td>1</td>\n",
       "      <td>1.0</td>\n",
       "      <td>0</td>\n",
       "      <td>1</td>\n",
       "      <td>1</td>\n",
       "      <td>1</td>\n",
       "      <td>50</td>\n",
       "      <td>145.95527</td>\n",
       "      <td>-38.48600</td>\n",
       "      <td>...</td>\n",
       "      <td>0</td>\n",
       "      <td>0</td>\n",
       "      <td>0</td>\n",
       "      <td>0</td>\n",
       "      <td>2</td>\n",
       "      <td>0</td>\n",
       "      <td>2</td>\n",
       "      <td>0</td>\n",
       "      <td>0</td>\n",
       "      <td>1.0</td>\n",
       "    </tr>\n",
       "    <tr>\n",
       "      <th>138030</th>\n",
       "      <td>0</td>\n",
       "      <td>6</td>\n",
       "      <td>5.0</td>\n",
       "      <td>0</td>\n",
       "      <td>1</td>\n",
       "      <td>1</td>\n",
       "      <td>1</td>\n",
       "      <td>30</td>\n",
       "      <td>145.11556</td>\n",
       "      <td>-38.05298</td>\n",
       "      <td>...</td>\n",
       "      <td>1</td>\n",
       "      <td>0</td>\n",
       "      <td>0</td>\n",
       "      <td>1</td>\n",
       "      <td>1</td>\n",
       "      <td>0</td>\n",
       "      <td>1</td>\n",
       "      <td>0</td>\n",
       "      <td>0</td>\n",
       "      <td>2.0</td>\n",
       "    </tr>\n",
       "  </tbody>\n",
       "</table>\n",
       "<p>138031 rows × 39 columns</p>\n",
       "</div>"
      ],
      "text/plain": [
       "        ALCOHOLTIME  ACCIDENT_TYPE  DAY_OF_WEEK  HIT_RUN_FLAG  \\\n",
       "0                 1              1          6.0             0   \n",
       "1                 1              1          4.0             0   \n",
       "2                 1              2          6.0             0   \n",
       "3                 1              1          6.0             0   \n",
       "4                 0              3          5.0             0   \n",
       "...             ...            ...          ...           ...   \n",
       "138026            0              2          1.0             0   \n",
       "138027            1              2          5.0             1   \n",
       "138028            0              1          3.0             0   \n",
       "138029            0              1          1.0             0   \n",
       "138030            0              6          5.0             0   \n",
       "\n",
       "        LIGHT_CONDITION  POLICE_ATTEND  SEVERITY  SPEED_ZONE  LONGITUDE  \\\n",
       "0                     1              1         1          60  146.42392   \n",
       "1                     2              0         2          50  144.93533   \n",
       "2                     1              0         1          60  144.96195   \n",
       "3                     1              1         1          60  145.07644   \n",
       "4                     1              0         1          60  146.08043   \n",
       "...                 ...            ...       ...         ...        ...   \n",
       "138026                1              1         1          60  144.97049   \n",
       "138027                4              0         2          60  145.31055   \n",
       "138028                2              1         1          40  145.04234   \n",
       "138029                1              1         1          50  145.95527   \n",
       "138030                1              1         1          30  145.11556   \n",
       "\n",
       "        LATITUDE  ...  OLD_DRIVER  YOUNG_DRIVER  ALCOHOL_RELATED  UNLICENCSED  \\\n",
       "0      -38.24305  ...           0             1                0            0   \n",
       "1      -37.74541  ...           0             1                0            1   \n",
       "2      -37.76806  ...           0             0                0            0   \n",
       "3      -37.86303  ...           0             0                0            0   \n",
       "4      -37.91727  ...           0             0                0            0   \n",
       "...          ...  ...         ...           ...              ...          ...   \n",
       "138026 -37.79748  ...           0             0                0            0   \n",
       "138027 -38.02485  ...           0             0                0            0   \n",
       "138028 -37.76884  ...           0             0                0            0   \n",
       "138029 -38.48600  ...           0             0                0            0   \n",
       "138030 -38.05298  ...           1             0                0            1   \n",
       "\n",
       "        NO_OF_VEHICLES  HEAVYVEHICLE  PASSENGERVEHICLE  MOTORCYCLE  \\\n",
       "0                    2             0                 2           0   \n",
       "1                    2             0                 2           0   \n",
       "2                    2             0                 1           0   \n",
       "3                    2             0                 1           1   \n",
       "4                    1             0                 0           1   \n",
       "...                ...           ...               ...         ...   \n",
       "138026               1             0                 1           0   \n",
       "138027               1             0                 0           0   \n",
       "138028               3             0                 2           1   \n",
       "138029               2             0                 2           0   \n",
       "138030               1             0                 1           0   \n",
       "\n",
       "        PUBLICVEHICLE  STAT_DIV_NAME  \n",
       "0                   0            1.0  \n",
       "1                   0            2.0  \n",
       "2                   0            2.0  \n",
       "3                   0            2.0  \n",
       "4                   0            1.0  \n",
       "...               ...            ...  \n",
       "138026              0            2.0  \n",
       "138027              0            2.0  \n",
       "138028              0            2.0  \n",
       "138029              0            1.0  \n",
       "138030              0            2.0  \n",
       "\n",
       "[138031 rows x 39 columns]"
      ]
     },
     "execution_count": 7,
     "metadata": {},
     "output_type": "execute_result"
    }
   ],
   "source": [
    "X"
   ]
  },
  {
   "cell_type": "code",
   "execution_count": 8,
   "metadata": {},
   "outputs": [
    {
     "data": {
      "text/plain": [
       "(138031, 39)"
      ]
     },
     "execution_count": 8,
     "metadata": {},
     "output_type": "execute_result"
    }
   ],
   "source": [
    "X.shape"
   ]
  },
  {
   "cell_type": "code",
   "execution_count": 9,
   "metadata": {},
   "outputs": [],
   "source": [
    "X = dataset.iloc[:,3:].values"
   ]
  },
  {
   "cell_type": "code",
   "execution_count": 10,
   "metadata": {},
   "outputs": [
    {
     "data": {
      "text/plain": [
       "array([[1., 1., 6., ..., 0., 0., 1.],\n",
       "       [1., 1., 4., ..., 0., 0., 2.],\n",
       "       [1., 2., 6., ..., 0., 0., 2.],\n",
       "       ...,\n",
       "       [0., 1., 3., ..., 1., 0., 2.],\n",
       "       [0., 1., 1., ..., 0., 0., 1.],\n",
       "       [0., 6., 5., ..., 0., 0., 2.]])"
      ]
     },
     "execution_count": 10,
     "metadata": {},
     "output_type": "execute_result"
    }
   ],
   "source": [
    "X"
   ]
  },
  {
   "cell_type": "code",
   "execution_count": 11,
   "metadata": {},
   "outputs": [
    {
     "name": "stderr",
     "output_type": "stream",
     "text": [
      "c:\\users\\nagas\\anaconda3\\envs\\tensorflow2.0\\lib\\site-packages\\sklearn\\utils\\deprecation.py:66: DeprecationWarning: Class Imputer is deprecated; Imputer was deprecated in version 0.20 and will be removed in 0.22. Import impute.SimpleImputer from sklearn instead.\n",
      "  warnings.warn(msg, category=DeprecationWarning)\n"
     ]
    }
   ],
   "source": [
    "#missing data\n",
    "from sklearn.preprocessing import Imputer\n",
    "imputer = Imputer(missing_values=-1,strategy=\"mean\",axis=0)\n",
    "imputer = imputer.fit(X[:,6].reshape(-1,1))\n",
    "X[:,6] =  imputer.transform(X[:,6].reshape(-1,1)).reshape(1,-1)"
   ]
  },
  {
   "cell_type": "code",
   "execution_count": 12,
   "metadata": {},
   "outputs": [],
   "source": [
    "X_n = dataset[['LGA_NAME','TOTAL_PERSONS']]\n",
    "X_n = X_n.iloc[:,:].values"
   ]
  },
  {
   "cell_type": "code",
   "execution_count": 13,
   "metadata": {},
   "outputs": [
    {
     "name": "stderr",
     "output_type": "stream",
     "text": [
      "c:\\users\\nagas\\anaconda3\\envs\\tensorflow2.0\\lib\\site-packages\\sklearn\\utils\\deprecation.py:66: DeprecationWarning: Class Imputer is deprecated; Imputer was deprecated in version 0.20 and will be removed in 0.22. Import impute.SimpleImputer from sklearn instead.\n",
      "  warnings.warn(msg, category=DeprecationWarning)\n"
     ]
    }
   ],
   "source": [
    "imputer = Imputer(missing_values='NaN',strategy=\"most_frequent\",axis=0)\n",
    "imputer = imputer.fit(X_n[:,:])\n",
    "X_n[:,:] =  imputer.transform(X_n[:,:])"
   ]
  },
  {
   "cell_type": "code",
   "execution_count": 14,
   "metadata": {
    "scrolled": true
   },
   "outputs": [
    {
     "data": {
      "image/png": "[encoded data removed]",
      "text/plain": [
       "<Figure size 1080x432 with 1 Axes>"
      ]
     },
     "metadata": {
      "needs_background": "light"
     },
     "output_type": "display_data"
    }
   ],
   "source": [
    "plt.scatter(X_n[:,0],X_n[:,1])\n",
    "plt.xlabel('LGA_NAME')\n",
    "plt.ylabel('Toatal_Accidents')\n",
    "plt.show()"
   ]
  },
  {
   "cell_type": "code",
   "execution_count": 15,
   "metadata": {},
   "outputs": [],
   "source": [
    "time = dataset['ACCIDENT_TIME']\n",
    "j=0\n",
    "t=[]\n",
    "for i in time:\n",
    "   t.append(int(i[0:2])) \n",
    "   j+=1\n",
    "\n",
    "import math\n",
    "j=0\n",
    "for i in t:\n",
    "    t[j] = i//3\n",
    "    j+=1\n",
    "    \n",
    "deathpertime={}\n",
    "for i,j in zip(X_n[:,1],t):\n",
    "    if j in deathpertime:\n",
    "        deathpertime[j] += i\n",
    "    else:\n",
    "        deathpertime[j] = i\n",
    " "
   ]
  },
  {
   "cell_type": "code",
   "execution_count": 16,
   "metadata": {},
   "outputs": [],
   "source": [
    "val=[]\n",
    "for i in sorted(deathpertime):\n",
    "    val.append(deathpertime[i])\n",
    "    \n",
    "label = ['12am-3am','3am-6am','6am-9am','9am-12pm','12pm-3pm','3pm-6pm','6pm-9pm','9pm-12am']"
   ]
  },
  {
   "cell_type": "code",
   "execution_count": 17,
   "metadata": {},
   "outputs": [
    {
     "data": {
      "image/png": "[encoded data removed]",
      "text/plain": [
       "<Figure size 720x360 with 1 Axes>"
      ]
     },
     "metadata": {
      "needs_background": "light"
     },
     "output_type": "display_data"
    }
   ],
   "source": [
    "plt.figure(figsize=(10,5))\n",
    "plt.bar([0,1,2,3,4,5,6,7],val) \n",
    "plt.xticks([0,1,2,3,4,5,6,7],label)\n",
    "plt.xlabel('Time (3-hour period)')\n",
    "plt.ylabel('Number of accidents')\n",
    "plt.show()"
   ]
  },
  {
   "cell_type": "code",
   "execution_count": 18,
   "metadata": {},
   "outputs": [
    {
     "data": {
      "image/png": "[encoded data removed]",
      "text/plain": [
       "<Figure size 1080x432 with 1 Axes>"
      ]
     },
     "metadata": {},
     "output_type": "display_data"
    }
   ],
   "source": [
    "plt.pie(val,labels=label,autopct='%1.1f%%')\n",
    "plt.axis('equal')\n",
    "plt.xlabel('Percentage of Accidents per 3-hour period')\n",
    "plt.show()"
   ]
  },
  {
   "cell_type": "code",
   "execution_count": 19,
   "metadata": {},
   "outputs": [],
   "source": [
    "RoadUserDf = pd.read_csv('datafile_3.csv')"
   ]
  },
  {
   "cell_type": "code",
   "execution_count": 20,
   "metadata": {},
   "outputs": [],
   "source": [
    "#Severity Index\n",
    "totalaccidents = {}\n",
    "\n",
    "totalaccidents[\"2012\"] = RoadUserDf.loc[36,'Number of Total Road Accidents of Two-Wheelers - 2012']\n",
    "totalaccidents[\"2012\"] += RoadUserDf.loc[36,'Number of Total Road Accidents of Auto-Rickshaws - 2012']\n",
    "totalaccidents[\"2012\"] += RoadUserDf.loc[36,'Number of Total Road Accidents of Cars, Jeeps, Taxis - 2012']\n",
    "totalaccidents[\"2012\"] += RoadUserDf.loc[36,'Number of Total Road Accidents of Buses - 2012']\n",
    "totalaccidents[\"2012\"] += RoadUserDf.loc[36,'Number of Total Road Accidents of Trucks, Tempos, MAVs, Tractors - 2012']\n",
    "totalaccidents[\"2012\"] += RoadUserDf.loc[36,'Number of Total Road Accidents of Other Motor Vehicles - 2012']\n",
    "totalaccidents[\"2012\"] += RoadUserDf.loc[36,'Number of Total Road Accidents of Other Vehicles/Objects - 2012']\n",
    "\n",
    "totalaccidents[\"2014\"] = RoadUserDf.loc[36,'Two-Wheelers - Number of Road Accidents-Total - 2014']\n",
    "totalaccidents[\"2014\"] += RoadUserDf.loc[36,'Auto-Rickshaws - Number of Road Accidents-Total - 2014']\n",
    "totalaccidents[\"2014\"] += RoadUserDf.loc[36,'Cars, Jeeps,Taxis - Number of Road Accidents - Total - 2014']\n",
    "totalaccidents[\"2014\"] += RoadUserDf.loc[36,'Buses - Number of Road Accidents - Total - 2014']\n",
    "totalaccidents[\"2014\"] += RoadUserDf.loc[36,'Trucks, Tempos,MAVs,Tractors - Number of Road Accidents - Total - 2014']\n",
    "totalaccidents[\"2014\"] += RoadUserDf.loc[36,'Other Motor Vehicles - Number of Road Accidents - Total - 2014']\n",
    "totalaccidents[\"2014\"] += RoadUserDf.loc[36,'Other Vehicles/Objects - Number of Road Accidents - Total - 2014']\n",
    "\n",
    "totalaccidents[\"2016\"] = RoadUserDf.loc[36,'Motor Cycle/ Scooter - Number of Road Accidents - Total - 2016']\n",
    "totalaccidents[\"2016\"] += RoadUserDf.loc[36,'Moped/Scootty - Number of Road Accidents - Total - 2016']\n",
    "totalaccidents[\"2016\"] += RoadUserDf.loc[36,'Auto rickshaw - Number of Road Accidents - Total - 2016']\n",
    "totalaccidents[\"2016\"] += RoadUserDf.loc[36,'Tempo - Number of Road Accidents - Total - 2016']\n",
    "totalaccidents[\"2016\"] += RoadUserDf.loc[36,'E-Rickshaw - Number of Road Accidents - Total - 2016']\n",
    "totalaccidents[\"2016\"] += RoadUserDf.loc[36,'Motor Car - Number of Road Accidents - Total - 2016']\n",
    "totalaccidents[\"2016\"] += RoadUserDf.loc[36,'Jeep - Number of Road Accidents - Total - 2016']\n",
    "totalaccidents[\"2016\"] += RoadUserDf.loc[36,'Taxi - Number of Road Accidents - Total - 2016']\n",
    "totalaccidents[\"2016\"] += RoadUserDf.loc[36,'Bus - Number of Road Accidents - Total - 2016']\n",
    "totalaccidents[\"2016\"] += RoadUserDf.loc[36,'Truck/Lorry - Number of Road Accidents - Total - 2016']\n",
    "totalaccidents[\"2016\"] += RoadUserDf.loc[36,'Articulated Vehicle/Trolly - Number of Road Accidents - Fatal - 2016']\n",
    "totalaccidents[\"2016\"] += RoadUserDf.loc[36,'Tractor - Number of Road Accidents - Total - 2016']\n",
    "totalaccidents[\"2016\"] += RoadUserDf.loc[36,'Other Motor Vehicles - Number of Road Accidents - Total - 2016']"
   ]
  },
  {
   "cell_type": "code",
   "execution_count": 21,
   "metadata": {},
   "outputs": [],
   "source": [
    "totalkilled = {}\n",
    "\n",
    "totalkilled[\"2012\"] = RoadUserDf.loc[36,'Number of Persons Killed from accidents of Two-Wheelers - 2012']\n",
    "totalkilled[\"2012\"] += RoadUserDf.loc[36,'Number of Persons Killed from accidents of Auto-Rickshaws - 2012']\n",
    "totalkilled[\"2012\"] += RoadUserDf.loc[36,'Number of Persons Killed from accidents of Cars, Jeeps, Taxis - 2012']\n",
    "totalkilled[\"2012\"] += RoadUserDf.loc[36,'Number of Persons Killed from accidents of Buses - 2012']\n",
    "totalkilled[\"2012\"] += RoadUserDf.loc[36,'Number of Persons Killed from accidents of Trucks, Tempos, MAVs, Tractors - 2012']\n",
    "totalkilled[\"2012\"] += RoadUserDf.loc[36,'Number of Persons Killed from accidents of Other Motor Vehicles - 2012']\n",
    "totalkilled[\"2012\"] += RoadUserDf.loc[36,'Number of Persons Killed from accidents of Other Vehicles/Objects - 2012']\n",
    "\n",
    "\n",
    "totalkilled[\"2014\"] = RoadUserDf.loc[36,'Two-Wheelers - Number of Persons-Killed - 2014']\n",
    "totalkilled[\"2014\"] += RoadUserDf.loc[36,'Auto-Rickshaws - Number of Persons-Killed - 2014']\n",
    "totalkilled[\"2014\"] += RoadUserDf.loc[36,'Cars, Jeeps,Taxis - Number of Persons Killed - 2014']\n",
    "totalkilled[\"2014\"] += RoadUserDf.loc[36,'Buses - Number of Persons - Killed - 2014']\n",
    "totalkilled[\"2014\"] += RoadUserDf.loc[36,'Trucks,Tempos,MAVs,Tractors - Number of Persons - Killed - 2014']\n",
    "totalkilled[\"2014\"] += RoadUserDf.loc[36,'Other Motor Vehicles - Number of Persons - Killed - 2014']\n",
    "totalkilled[\"2014\"] += RoadUserDf.loc[36,'Other Vehicles/Objects - Number of Persons - Killed - 2014']\n",
    "\n",
    "totalkilled[\"2016\"] = RoadUserDf.loc[36,'Motor Cycle/ Scooter - Number of Persons - Killed - 2016']\n",
    "totalkilled[\"2016\"] += RoadUserDf.loc[36,'Moped/Scootty - Number of Persons - Killed - 2016']\n",
    "totalkilled[\"2016\"] += RoadUserDf.loc[36,'Auto rickshaw - Number of Persons - Killed - 2016']\n",
    "totalkilled[\"2016\"] += RoadUserDf.loc[36,'Tempo - Number of Persons - Killed - 2016']\n",
    "totalkilled[\"2016\"] += RoadUserDf.loc[36,'E-Rickshaw - Number of Persons - Killed - 2016']\n",
    "totalkilled[\"2016\"] += RoadUserDf.loc[36,'Motor Car - Number of Persons - Killed - 2016']\n",
    "totalkilled[\"2016\"] += RoadUserDf.loc[36,'Jeep - Number of Persons - Killed - 2016']\n",
    "totalkilled[\"2016\"] += RoadUserDf.loc[36,'Taxi - Number of Persons - Killed - 2016']\n",
    "totalkilled[\"2016\"] += RoadUserDf.loc[36,'Bus - Number of Persons - Killed - 2016']\n",
    "totalkilled[\"2016\"] += RoadUserDf.loc[36,'Truck/Lorry - Number of Persons - Killed - 2016']\n",
    "totalkilled[\"2016\"] += RoadUserDf.loc[36,'Articulated Vehicle/Trolly - Number of Persons - Killed - 2016']\n",
    "totalkilled[\"2016\"] += RoadUserDf.loc[36,'Tractor - Number of Persons - Killed - 2016']\n",
    "totalkilled[\"2016\"] += RoadUserDf.loc[36,'Other Motor Vehicles - Number of Persons - Killed - 2016']"
   ]
  },
  {
   "cell_type": "code",
   "execution_count": 22,
   "metadata": {},
   "outputs": [
    {
     "data": {
      "image/png": "[encoded data removed]",
      "text/plain": [
       "<Figure size 720x360 with 1 Axes>"
      ]
     },
     "metadata": {
      "needs_background": "light"
     },
     "output_type": "display_data"
    }
   ],
   "source": [
    "severity = {}\n",
    "for i in totalkilled:\n",
    "    severity[i] = (totalkilled[i]/totalaccidents[i])*100\n",
    "\n",
    "plt.figure(figsize=(10,5))\n",
    "plt.plot([2012,2014,2016],list(severity.values()))\n",
    "plt.xticks([2012,2014,2016])\n",
    "plt.yticks([28,29,30,31])\n",
    "plt.title('Accident Severity Index (Total deaths per 100 accidents)')\n",
    "plt.xlabel('Year')\n",
    "plt.ylabel('Accident Severity Index')\n",
    "plt.show()"
   ]
  },
  {
   "cell_type": "code",
   "execution_count": 23,
   "metadata": {},
   "outputs": [],
   "source": [
    "### Road-user data\n",
    "FaultType = pd.read_csv('datafile_4.csv')\n",
    "FaultType = FaultType.drop(FaultType.index[[34,37]])"
   ]
  },
  {
   "cell_type": "code",
   "execution_count": 24,
   "metadata": {},
   "outputs": [],
   "source": [
    "faulttype = {}\n",
    "faulttype[\"Driver's Fault\"] = FaultType.loc[36,'Fault of Driver-Total No. of Road Accidents - 2014'] \n",
    "faulttype[\"Cyclist's Fault\"] = FaultType.loc[36,'Fault of Cyclist-Total No. of Road Accidents - 2014'] \n",
    "faulttype[\"Vehicle Condition\"] = FaultType.loc[36,'Defect in Condition of Motor Vehicle-Total No. of Road Accidents - 2014'] \n",
    "faulttype[\"Road Condition\"] = FaultType.loc[36,'Defect in Road Condition-Total No. of Road Accidents - 2014'] \n",
    "faulttype[\"Weather Condition\"] = FaultType.loc[36,'Weather Condition-Total No. of Road Accidents - 2014'] \n",
    "faulttype[\"Passenger's Fault\"] = FaultType.loc[36,'Fault of Passenger-Total No. of Road Accidents - 2014'] \n",
    "faulttype[\"Poor Light\"] = FaultType.loc[36,'Poor light-Total No. of Road Accidents - 2014'] \n",
    "faulttype[\"Stray Animals\"] = FaultType.loc[36,'Stray animals-Total No. of Road Accidents - 2014'] \n",
    "faulttype[\"Others\"] = FaultType.loc[36,'Other causes/ Causes not known-Total No. of Road Accidents - 2014'] "
   ]
  },
  {
   "cell_type": "code",
   "execution_count": 25,
   "metadata": {},
   "outputs": [],
   "source": [
    "val = list(faulttype.values())\n",
    "total = sum(val)\n",
    "for i in range(0,9):\n",
    "    val[i] = format(val[i]*100/total,'.2f')"
   ]
  },
  {
   "cell_type": "code",
   "execution_count": 26,
   "metadata": {},
   "outputs": [
    {
     "data": {
      "image/png": "[encoded data removed]",
      "text/plain": [
       "<Figure size 720x576 with 1 Axes>"
      ]
     },
     "metadata": {},
     "output_type": "display_data"
    }
   ],
   "source": [
    "plt.figure(figsize=(10,8))\n",
    "plt.pie(list(faulttype.values()))\n",
    "plt.axis('equal')\n",
    "plt.xlabel('Accidents in 2014')\n",
    "\n",
    "centre_circle = plt.Circle((0,0),0.70,fc='white')\n",
    "fig = plt.gcf()\n",
    "fig.gca().add_artist(centre_circle)\n",
    "label = [list(pair) for pair in zip(list(faulttype.keys()),val)]\n",
    "plt.legend(label)\n",
    "plt.show()"
   ]
  },
  {
   "cell_type": "code",
   "execution_count": 27,
   "metadata": {},
   "outputs": [],
   "source": [
    "# Involvement of different types of vehicles\n",
    "\n",
    "vehicletype = {}\n",
    "vehicletype[\"2-Wheeler\"] = RoadUserDf.loc[36,'Motor Cycle/ Scooter - Number of Road Accidents - Total - 2016']\n",
    "vehicletype[\"2-Wheeler\"] += RoadUserDf.loc[36,'Moped/Scootty - Number of Road Accidents - Total - 2016']\n",
    "\n",
    "vehicletype[\"3-Wheeler\"] = RoadUserDf.loc[36,'Auto rickshaw - Number of Road Accidents - Total - 2016']\n",
    "vehicletype[\"3-Wheeler\"] += RoadUserDf.loc[36,'Tempo - Number of Road Accidents - Total - 2016']\n",
    "vehicletype[\"3-Wheeler\"] += RoadUserDf.loc[36,'E-Rickshaw - Number of Road Accidents - Total - 2016']\n",
    "\n",
    "\n",
    "vehicletype[\"4-Wheeler\"] = RoadUserDf.loc[36,'Motor Car - Number of Road Accidents - Total - 2016']\n",
    "vehicletype[\"4-Wheeler\"] += RoadUserDf.loc[36,'Jeep - Number of Road Accidents - Total - 2016']\n",
    "vehicletype[\"4-Wheeler\"] += RoadUserDf.loc[36,'Taxi - Number of Road Accidents - Total - 2016']\n",
    "\n",
    "vehicletype[\"Heavy Vehicle\"] = RoadUserDf.loc[36,'Bus - Number of Road Accidents - Total - 2016']\n",
    "vehicletype[\"Heavy Vehicle\"] += RoadUserDf.loc[36,'Truck/Lorry - Number of Road Accidents - Total - 2016']\n",
    "vehicletype[\"Heavy Vehicle\"] += RoadUserDf.loc[36,'Articulated Vehicle/Trolly - Number of Road Accidents - Total - 2016']\n",
    "vehicletype[\"Heavy Vehicle\"] += RoadUserDf.loc[36,'Tractor - Number of Road Accidents - Total - 2016']\n",
    "\n",
    "vehicletype[\"Other Vehicle\"] = RoadUserDf.loc[36,'Other Motor Vehicles - Number of Road Accidents - Total - 2016']"
   ]
  },
  {
   "cell_type": "code",
   "execution_count": 28,
   "metadata": {},
   "outputs": [
    {
     "data": {
      "image/png": "[encoded data removed]",
      "text/plain": [
       "<Figure size 720x576 with 1 Axes>"
      ]
     },
     "metadata": {},
     "output_type": "display_data"
    }
   ],
   "source": [
    "#plot vehicle-type\n",
    "\n",
    "plt.figure(figsize=(10,8))\n",
    "plt.pie(list(vehicletype.values()),labels=list(vehicletype.keys()),autopct='%1.2f%%')\n",
    "plt.axis('equal')\n",
    "plt.xlabel('Types of Vehicles Involved in Accidents in 2016')\n",
    "\n",
    "centre_circle = plt.Circle((0,0),0.70,fc='white')\n",
    "fig = plt.gcf()\n",
    "fig.gca().add_artist(centre_circle)\n",
    "\n",
    "plt.show()"
   ]
  },
  {
   "cell_type": "code",
   "execution_count": 29,
   "metadata": {},
   "outputs": [],
   "source": [
    "import seaborn as sns"
   ]
  },
  {
   "cell_type": "code",
   "execution_count": 30,
   "metadata": {},
   "outputs": [],
   "source": [
    "Adataset = pd.read_csv('Accident_Dataset.csv')\n",
    "X1 = Adataset.iloc[:,:].values\n",
    "X1 = np.delete(X1,2,axis=1)\n",
    "X1 = np.delete(X1,1,axis=1)\n",
    "X1 = np.delete(X1,0,axis=1)\n",
    "names = (Adataset.columns.values)\n",
    "names = names[3:]"
   ]
  },
  {
   "cell_type": "code",
   "execution_count": 31,
   "metadata": {},
   "outputs": [
    {
     "name": "stderr",
     "output_type": "stream",
     "text": [
      "c:\\users\\nagas\\anaconda3\\envs\\tensorflow2.0\\lib\\site-packages\\sklearn\\utils\\deprecation.py:66: DeprecationWarning: Class Imputer is deprecated; Imputer was deprecated in version 0.20 and will be removed in 0.22. Import impute.SimpleImputer from sklearn instead.\n",
      "  warnings.warn(msg, category=DeprecationWarning)\n"
     ]
    }
   ],
   "source": [
    "imputer = Imputer(missing_values='NaN',strategy=\"most_frequent\",axis=0)\n",
    "imputer = imputer.fit(X1[:,:])\n",
    "X1[:,:] =  imputer.transform(X1[:,:])\n",
    "data_new = pd.DataFrame(data=X1,columns=names)"
   ]
  },
  {
   "cell_type": "code",
   "execution_count": 32,
   "metadata": {},
   "outputs": [
    {
     "name": "stderr",
     "output_type": "stream",
     "text": [
      "c:\\users\\nagas\\anaconda3\\envs\\tensorflow2.0\\lib\\site-packages\\sklearn\\utils\\deprecation.py:66: DeprecationWarning: Class Imputer is deprecated; Imputer was deprecated in version 0.20 and will be removed in 0.22. Import impute.SimpleImputer from sklearn instead.\n",
      "  warnings.warn(msg, category=DeprecationWarning)\n"
     ]
    }
   ],
   "source": [
    "imputer = Imputer(missing_values=-1,strategy=\"most_frequent\",axis=0)\n",
    "imputer = imputer.fit(X1[:,:])\n",
    "X1[:,:] =  imputer.transform(X1[:,:])\n",
    "data_new = pd.DataFrame(data=X1,columns=names)"
   ]
  },
  {
   "cell_type": "code",
   "execution_count": 33,
   "metadata": {},
   "outputs": [
    {
     "name": "stderr",
     "output_type": "stream",
     "text": [
      "c:\\users\\nagas\\anaconda3\\envs\\tensorflow2.0\\lib\\site-packages\\sklearn\\utils\\deprecation.py:66: DeprecationWarning: Class Imputer is deprecated; Imputer was deprecated in version 0.20 and will be removed in 0.22. Import impute.SimpleImputer from sklearn instead.\n",
      "  warnings.warn(msg, category=DeprecationWarning)\n"
     ]
    }
   ],
   "source": [
    "imputer = Imputer(missing_values=-2,strategy=\"most_frequent\",axis=0)\n",
    "imputer = imputer.fit(X1[:,:])\n",
    "X1[:,:] =  imputer.transform(X1[:,:])\n",
    "data_new = pd.DataFrame(data=X1,columns=names)"
   ]
  },
  {
   "cell_type": "code",
   "execution_count": 34,
   "metadata": {},
   "outputs": [
    {
     "data": {
      "image/png": "[encoded data removed]",
      "text/plain": [
       "<Figure size 1080x432 with 1 Axes>"
      ]
     },
     "metadata": {
      "needs_background": "light"
     },
     "output_type": "display_data"
    }
   ],
   "source": [
    "sns.countplot(x='LIGHT_CONDITION', hue='SEVERITY',data=data_new)\n",
    "plt.show()"
   ]
  },
  {
   "cell_type": "code",
   "execution_count": 35,
   "metadata": {},
   "outputs": [
    {
     "data": {
      "image/png": "[encoded data removed]",
      "text/plain": [
       "<Figure size 1080x432 with 1 Axes>"
      ]
     },
     "metadata": {
      "needs_background": "light"
     },
     "output_type": "display_data"
    }
   ],
   "source": [
    "sns.countplot(x='SEVERITY',hue='ALCOHOLTIME',data=data_new)\n",
    "plt.show()"
   ]
  },
  {
   "cell_type": "code",
   "execution_count": 36,
   "metadata": {},
   "outputs": [
    {
     "data": {
      "image/png": "[encoded data removed]",
      "text/plain": [
       "<Figure size 1080x432 with 1 Axes>"
      ]
     },
     "metadata": {
      "needs_background": "light"
     },
     "output_type": "display_data"
    }
   ],
   "source": [
    "sns.countplot(x='LIGHT_CONDITION',hue='ALCOHOLTIME',data=data_new)\n",
    "plt.show()"
   ]
  },
  {
   "cell_type": "code",
   "execution_count": 37,
   "metadata": {
    "scrolled": true
   },
   "outputs": [
    {
     "data": {
      "image/png": "[encoded data removed]",
      "text/plain": [
       "<Figure size 1080x432 with 1 Axes>"
      ]
     },
     "metadata": {
      "needs_background": "light"
     },
     "output_type": "display_data"
    }
   ],
   "source": [
    "sns.countplot(x='SEVERITY',hue='SPEED_ZONE',data=data_new)\n",
    "plt.show()"
   ]
  },
  {
   "cell_type": "code",
   "execution_count": 38,
   "metadata": {},
   "outputs": [
    {
     "data": {
      "image/png": "[encoded data removed]",
      "text/plain": [
       "<Figure size 1080x432 with 1 Axes>"
      ]
     },
     "metadata": {
      "needs_background": "light"
     },
     "output_type": "display_data"
    }
   ],
   "source": [
    "sns.countplot(x='POLICE_ATTEND',hue='SPEED_ZONE',data=data_new)\n",
    "plt.show()"
   ]
  },
  {
   "cell_type": "code",
   "execution_count": 39,
   "metadata": {},
   "outputs": [
    {
     "data": {
      "image/png": "[encoded data removed]",
      "text/plain": [
       "<Figure size 1080x432 with 1 Axes>"
      ]
     },
     "metadata": {
      "needs_background": "light"
     },
     "output_type": "display_data"
    }
   ],
   "source": [
    "sns.countplot(x='FEMALES',hue='SEVERITY',data=data_new)\n",
    "plt.show()"
   ]
  },
  {
   "cell_type": "code",
   "execution_count": 44,
   "metadata": {},
   "outputs": [
    {
     "data": {
      "text/plain": [
       "ACCIDENT_NO            0\n",
       "ACCIDENT_DATE          0\n",
       "ACCIDENT_TIME          0\n",
       "ALCOHOLTIME            0\n",
       "ACCIDENT_TYPE          0\n",
       "DAY_OF_WEEK          520\n",
       "HIT_RUN_FLAG           0\n",
       "LIGHT_CONDITION        0\n",
       "POLICE_ATTEND          0\n",
       "SEVERITY               0\n",
       "SPEED_ZONE             0\n",
       "LONGITUDE            700\n",
       "LATITUDE             700\n",
       "LGA_NAME             800\n",
       "TOTAL_PERSONS          0\n",
       "INJ_OR_FATAL           0\n",
       "FATALITY               0\n",
       "SERIOUSINJURY          0\n",
       "OTHERINJURY            0\n",
       "NONINJURED             0\n",
       "MALES                  0\n",
       "FEMALES                0\n",
       "BICYCLIST              0\n",
       "PASSENGER              0\n",
       "DRIVER                 0\n",
       "PEDESTRIAN             0\n",
       "PILLION                0\n",
       "MOTORIST               0\n",
       "UNKNOWN_               0\n",
       "PED_CYCLIST_5_12       0\n",
       "PED_CYCLIST_13_18      0\n",
       "OLD_PEDESTRIAN         0\n",
       "OLD_DRIVER             0\n",
       "YOUNG_DRIVER           0\n",
       "ALCOHOL_RELATED        0\n",
       "UNLICENCSED            0\n",
       "NO_OF_VEHICLES         0\n",
       "HEAVYVEHICLE           0\n",
       "PASSENGERVEHICLE       0\n",
       "MOTORCYCLE             0\n",
       "PUBLICVEHICLE          0\n",
       "STAT_DIV_NAME        700\n",
       "dtype: int64"
      ]
     },
     "execution_count": 44,
     "metadata": {},
     "output_type": "execute_result"
    }
   ],
   "source": [
    "dataset.isnull().sum()"
   ]
  },
  {
   "cell_type": "code",
   "execution_count": 45,
   "metadata": {},
   "outputs": [],
   "source": [
    "dataset=dataset.dropna(how = 'any')"
   ]
  },
  {
   "cell_type": "code",
   "execution_count": 54,
   "metadata": {},
   "outputs": [
    {
     "data": {
      "text/plain": [
       "0"
      ]
     },
     "execution_count": 54,
     "metadata": {},
     "output_type": "execute_result"
    }
   ],
   "source": [
    "dataset.duplicated().sum()"
   ]
  },
  {
   "cell_type": "code",
   "execution_count": 46,
   "metadata": {},
   "outputs": [],
   "source": [
    "y = dataset['SEVERITY']\n",
    "x = dataset[['ALCOHOLTIME',\n",
    "       'ACCIDENT_TYPE', 'DAY_OF_WEEK', 'HIT_RUN_FLAG', 'LIGHT_CONDITION',\n",
    "       'POLICE_ATTEND', 'SPEED_ZONE', 'LONGITUDE', 'LATITUDE',\n",
    "       'LGA_NAME', 'TOTAL_PERSONS', 'INJ_OR_FATAL', 'FATALITY',\n",
    "       'SERIOUSINJURY', 'OTHERINJURY', 'NONINJURED', 'MALES', 'FEMALES',\n",
    "       'BICYCLIST', 'PASSENGER', 'DRIVER', 'PEDESTRIAN', 'PILLION', 'MOTORIST',\n",
    "       'UNKNOWN_', 'PED_CYCLIST_5_12', 'PED_CYCLIST_13_18', 'OLD_PEDESTRIAN',\n",
    "       'OLD_DRIVER', 'YOUNG_DRIVER', 'ALCOHOL_RELATED', 'UNLICENCSED',\n",
    "       'NO_OF_VEHICLES', 'HEAVYVEHICLE', 'PASSENGERVEHICLE', 'MOTORCYCLE',\n",
    "       'PUBLICVEHICLE', 'STAT_DIV_NAME']]"
   ]
  },
  {
   "cell_type": "code",
   "execution_count": 47,
   "metadata": {},
   "outputs": [],
   "source": [
    "from sklearn.model_selection import train_test_split\n",
    "X_train, X_test, y_train, y_test = train_test_split(x, y, test_size = 0.3, random_state = 0)"
   ]
  },
  {
   "cell_type": "code",
   "execution_count": 48,
   "metadata": {},
   "outputs": [
    {
     "name": "stdout",
     "output_type": "stream",
     "text": [
      "confussion matrix\n",
      "[[27068     0     0]\n",
      " [    0 13243     0]\n",
      " [    0     0   703]]\n",
      "\n",
      "\n",
      "accuracy 100.0\n"
     ]
    }
   ],
   "source": [
    "from sklearn.ensemble import RandomForestClassifier\n",
    "from sklearn.metrics import confusion_matrix, classification_report, accuracy_score\n",
    "\n",
    "rf = RandomForestClassifier(n_estimators=20, random_state=23)\n",
    "rf.fit(X_train, y_train)\n",
    "rf_predict=rf.predict(X_test)\n",
    "\n",
    "rf_conf_matrix = confusion_matrix(y_test, rf_predict)\n",
    "rf_acc_score = accuracy_score(y_test, rf_predict)\n",
    "\n",
    "print(\"confussion matrix\")\n",
    "print(rf_conf_matrix)\n",
    "\n",
    "print(\"\\n\")\n",
    "print(\"accuracy\",rf_acc_score*100)"
   ]
  },
  {
   "cell_type": "code",
   "execution_count": null,
   "metadata": {},
   "outputs": [],
   "source": []
  }
 ],
 "metadata": {
  "kernelspec": {
   "display_name": "Python 3 (ipykernel)",
   "language": "python",
   "name": "python3"
  },
  "language_info": {
   "codemirror_mode": {
    "name": "ipython",
    "version": 3
   },
   "file_extension": ".py",
   "mimetype": "text/x-python",
   "name": "python",
   "nbconvert_exporter": "python",
   "pygments_lexer": "ipython3",
   "version": "3.8.8"
  }
 },
 "nbformat": 4,
 "nbformat_minor": 2
}
